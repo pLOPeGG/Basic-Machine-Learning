{
 "cells": [
  {
   "cell_type": "markdown",
   "metadata": {},
   "source": [
    "<table>\n",
    "    <tr><td><b>Names</b></td><td>Thibault Douzon & Rajavarman Mathivanan</td></tr>\n",
    "    <tr><td><b>Group</b></td><td>BML36</td></tr>\n",
    "</table>"
   ]
  },
  {
   "cell_type": "markdown",
   "metadata": {},
   "source": [
    "$\n",
    "\\newcommand{\\x}{\\mathbf{x}}\n",
    "\\newcommand{\\w}{\\mathbf{w}}\n",
    "\\newcommand{\\z}{\\mathbf{z}}\n",
    "\\newcommand{\\wx}{\\w^\\top\\x}\n",
    "\\newcommand{\\dataset}{\\mathbf{X}}\n",
    "\\newcommand{\\tset}{t\\negthickspace t}\n",
    "$\n",
    "\n",
    "# Week 5: Neural networks\n",
    "\n",
    "The basic unit of a multi-layer perceptron (MLP) is the neuron, which is a computational unit that computes a weighted sum of its inputs $\\wx$ and pushes this through a non-linear activation function. Important is that this activation should be differentiable, as we will train the weights of the network by gradient descent. This requires that we should be able to compute the gradient of an error function with respect to the weights. \n",
    "\n",
    "In a sense, this whole lab is about taking derivatives and applying the chain rule of derivation. As a reminder, the rule is that the derivative of a function $f$ applied to the result of a function $g$ $f(g(x))$ can be decomposed as:\n",
    "$$\n",
    "\\frac{\\partial}{\\partial x} f(g(x)) = \\frac{\\partial f(g(x))}{\\partial g(x)} \\, \\frac{\\partial g(x)}{\\partial x} \n",
    "$$\n"
   ]
  },
  {
   "cell_type": "code",
   "execution_count": 2,
   "metadata": {},
   "outputs": [],
   "source": [
    "import numpy as np\n",
    "import matplotlib.pyplot as plt\n",
    "import time\n",
    "import copy\n",
    "\n",
    "\n",
    "def gradDesc(w, errorfn, gradfn,  eta=1e-3, verbose=True, maxit=100):\n",
    "    \"\"\"Find a minimum of a function using Gradient Descent\n",
    "    \n",
    "    Inputs:\n",
    "        w: Initialisation of the weights\n",
    "        errorfn: the function of w to minimise\n",
    "        gradfn:  The gradient of that function w.r.t. w\n",
    "        eta:     The initial value of the step size\n",
    "        verbose: Whether to print out progress information\n",
    "        \n",
    "    Outputs:\n",
    "        - The value of w at which the minimum is achieved\n",
    "        - a list errors for the different iterations\n",
    "        - a list of the corresponding time steps\n",
    "    \n",
    "    \"\"\"\n",
    "    err = errorfn(w)             # Compute the error function\n",
    "    errs = np.zeros(maxit)       # Keep track of the error function\n",
    "    ts = np.zeros(maxit)         # Keep track of time stamps\n",
    "    start = time.time()\n",
    "\n",
    "    newError = errorfn(w) + 1.\n",
    "    for n in range(maxit):\n",
    "        grad = gradfn(w)\n",
    "        if verbose:\n",
    "            print(\"##\", n, \"err:\", newError, \"eta:\", eta, \"w:\", w)\n",
    "            print(\"  Gradient:\", grad)\n",
    "            print(\"  FD grad: \", gradfd(w,errorfn))\n",
    "        pw = copy.copy(w)\n",
    "        w -= grad * eta     # Update the weights\n",
    "        \n",
    "        pastError = newError\n",
    "        newError = errorfn(w)\n",
    "        while eta > 0. and pastError - newError < 0: # If the error increases, eta is too large\n",
    "            eta /= 2.0                                # halve it, and\n",
    "            w = pw - eta * grad                      # try again from the original value of the weights\n",
    "            newError = errorfn(w)\n",
    "        else:                                        # If the error goes down,\n",
    "            eta *= 1.2                               # try to increase eta a little, to speed up things.\n",
    "                \n",
    "        if pastError-newError < 1e-5:                # If we couldn't decrease the error anymore, \n",
    "            return w, errs[:n], ts[:n]               # just give up\n",
    " \n",
    "        errs[n] = newError                           # Keep track of how the errors evolved\n",
    "        ts[n] = time.time()-start\n",
    "\n",
    "    return w, errs, ts\n",
    "\n",
    "\n",
    "def sigma(a):\n",
    "    \"\"\"Numerically stable implementation of the logistic function\"\"\"\n",
    "    return 0. if a<-40. else 1. if a>40. else 1./(1.+np.exp(-a))\n",
    "sigma = np.vectorize(sigma) # make sigma work elementwise on vectors too\n",
    "\n",
    "def gradSigma(a):\n",
    "    \"\"\"Return the derivative of the logistic function w.r.t. its function parameter\"\"\"\n",
    "    s = sigma(a)\n",
    "    return s*(1.-s)\n"
   ]
  },
  {
   "cell_type": "markdown",
   "metadata": {},
   "source": [
    "## Neuron definition\n",
    "\n",
    "In this case, let's set up our network to have the sigmoidal activation function that we've seen before in logistic regression, \n",
    "$$\n",
    "\\sigma(a) = \\frac{1}{1+e^{-a}}\\ ,\n",
    "$$ \n",
    "so that the activation $z_i$ of neuron $i$ in the first computational layer is given by\n",
    "$$\n",
    "z_i = \\sigma(\\w_i^\\top \\x) \\ ,\n",
    "$$\n",
    "where $\\x$ is the input datapoint, and $\\w_i$ is the set of input weights to neuron $i$. Other activation functions are possible, such as a linear function ($z=\\wx$) or a hyperbolic tangent ($z=\\tanh(\\wx)$). Let's consider a network of a single neuron, then the output of our network $y(\\w,\\x) = \\sigma(\\wx)$.\n",
    "\n",
    "## Training\n",
    "\n",
    "To train a single neuron, we have a set of datapoints $\\dataset = \\{ \\x_1\\dots \\x_N\\}$ and corresponding targets $\\tset = \\{ t_1 \\dots t_N \\}$. We use this dataset to find optimal weights, and we define optimality on terms of an error function. Let's define our error function as a sum of squared errors:\n",
    "$$\n",
    "E(\\w) = \\tfrac{1}{2} \\sum_{n=1}^N (y(\\w,\\x_n) - t_n)^2\n",
    "$$\n",
    "\n",
    "Notice how, although our single neuron is very similar to the logistic regression we saw in previous weeks, our error function is now quite different. The error for our set $\\dataset, \\tset$ is now:\n",
    "$$\n",
    "E(\\w) = \\frac{1}{2}\\sum_{n=1}^N (\\sigma(\\w^\\top\\x_n) - t_n)^2\n",
    "$$"
   ]
  },
  {
   "cell_type": "markdown",
   "metadata": {},
   "source": [
    "**Question 1 [5 credits]** What is the partial derivative of this error with respect to the $i$th weight of the neuron, $w_i$? Be careful, this is not the same as what we saw in the lecture, where the output neuron had a linear activation function. Remember that $\\w^\\top\\x \\triangleq \\sum_{i=0}^D w_i x_i$"
   ]
  },
  {
   "cell_type": "markdown",
   "metadata": {},
   "source": [
    "ANSQ1\n",
    "\n",
    "$$\n",
    "\\frac{\\partial E}{\\partial w_i}(w) = \\frac{\\partial \\frac{1}{2}\\sum_{n=1}^N (\\sigma(w^\\top x_n) - t_n)^2}{\\partial w_i}\n",
    "$$\n",
    "$$\n",
    "\\frac{\\partial E}{\\partial w_i}(w) =\\sum_{n=1}^N \\frac{\\partial \\frac{1}{2} (\\sigma(w^\\top x_n) - t_n)^2}{\\partial \\sigma(w^\\top x_n)-t_n} \\cdot \\frac{\\partial \\sigma(w^\\top x_n)-t_n}{\\partial w^\\top x_n}\\cdot \\frac{\\partial w^\\top x_n}{\\partial w_i}\n",
    "$$\n",
    "$$\n",
    "\\frac{\\partial E}{\\partial w_i}(w) =\\sum_{n=1}^N (\\sigma(w^\\top x_n)-t_n) \\cdot \\sigma(w^\\top x_n)(1-\\sigma(w^\\top x_n)) \\cdot x_{n,i}\n",
    "$$\n",
    "\n",
    "/ANSQ1"
   ]
  },
  {
   "cell_type": "markdown",
   "metadata": {},
   "source": [
    "**Question 2 [10 credits]** If now we had a neural network with two layers of one neuron each (one hidden and one output node), both with sigmoidal activation functions, \n",
    "* what would be the error function, analytically? \n",
    "* What is the derivative of that error with respect to the weights of the first and second layer?\n",
    "\n",
    "For ease of notation, let's assume there is no bias term in the second layer. The input is still a vector $\n",
    "\\x$ with multiple dimensions, however.\n",
    "\n",
    "How do your equations correspond to the quantities computed in backpropagation?"
   ]
  },
  {
   "cell_type": "markdown",
   "metadata": {},
   "source": [
    "ANSQ2\n",
    "\n",
    "$$\n",
    "E(w) = \\frac{1}{2}\\sum_{n=1}^N (\\sigma(w^{(1)}\\cdot\\sigma({w^{(0)}}^\\top x_n)) - t_n)^2\n",
    "$$\n",
    "$$\n",
    "\\frac{\\partial E}{\\partial w^{(1)}}(w) =  \\frac{\\partial \\frac{1}{2}\\sum_{n=1}^N(\\sigma(w^{(1)}\\cdot\\sigma({{w^{(0)}}^\\top x_n})) - t_n)^2}{\\partial w^{(1)}_i}\n",
    "$$\n",
    "$$\n",
    "\\frac{\\partial E}{\\partial w^{(1)}}(w) = \\sum_{n=1}^N \\frac{\\partial\\frac{1}{2}(\\sigma(w^{(1)}\\cdot\\sigma({{w^{(0)}}^\\top x_n})) - t_n)^2}{\\partial \\sigma(w^{(1)}\\cdot\\sigma({{w^{(0)}}^\\top x_n})) - t_n} \\cdot \\frac{\\partial\\sigma(w^{(1)}\\cdot\\sigma({{w^{(0)}}^\\top x_n})) - t_n}{w^{(1)}\\cdot\\sigma({{w^{(0)}}^\\top x_n})}\\cdot\\frac{\\partial w^{(1)}\\cdot\\sigma({{w^{(0)}}^\\top x_n})}{\\partial w^{(1)}}\n",
    "$$\n",
    "$$\n",
    "\\frac{\\partial E}{\\partial w^{(1)}}(w) = \\sum_{n=1}^N (\\sigma(w^{(1)}\\cdot\\sigma({{w^{(0)}}^\\top x_n}))-t_n)\\cdot \\sigma(w^{(1)}\\cdot\\sigma({{w^{(0)}}^\\top x_n}))(1-\\sigma(w^{(1)}\\cdot\\sigma({{w^{(0)}}^\\top x_n})))\\cdot \\sigma({{w^{(0)}}^\\top x_n})\n",
    "$$\n",
    "set\n",
    "$$\n",
    "z_0 = \\sigma({{w^{(0)}}^\\top x_n})\n",
    "$$\n",
    "$$\n",
    "\\frac{\\partial E}{\\partial w^{(1)}}(w) = \\sum_{n=1}^N (\\sigma(w^{(1)}\\cdot z_0)-t_n)\\cdot \\sigma(w^{(1)}\\cdot z_0)(1-\\sigma(w^{(1)}\\cdot z_0))\\cdot  z_0\n",
    "$$\n",
    "/ANSQ2"
   ]
  },
  {
   "cell_type": "markdown",
   "metadata": {},
   "source": [
    "**Question 3 [10 credits]** Implement the following python functions: \n",
    "\n",
    "* `sse(output, target)`, which implements the squared error between the given network output and the corresponding target. Both are assumed to be scalars, not vectors. \n",
    "* `gradSse(output,target)`, which computes the gradient of that error with respect to its input variable `output`\n",
    "* `neuron(weights, inputs)`, wich implements a neuron with sigmoidal activation function, weights $\\w$ and inputs $\\x$. Assume that this function will receive an augmented vector $\\x$, where the first element is fixed to $1$, so you do not need to handle the bias parameter separately\n",
    "* `gradNeuron(weights, inputs)`, which implements the gradient of the neuron's output with respect to the neuron's weights."
   ]
  },
  {
   "cell_type": "code",
   "execution_count": 18,
   "metadata": {},
   "outputs": [],
   "source": [
    "#ANSQ3\n",
    "def sse(output, target):\n",
    "    return 0.5*(output - target)**2\n",
    "\n",
    "def gradSse(output, target):\n",
    "    return output-target\n",
    "\n",
    "def neuron(weights, inputs):\n",
    "    return sigma(weights.dot(inputs))\n",
    "\n",
    "def gradNeuron(weights, inputs):\n",
    "    return gradSigma(weights.dot(inputs))*inputs\n",
    "#/ANSQ3\n"
   ]
  },
  {
   "cell_type": "markdown",
   "metadata": {},
   "source": [
    "**Question 4 [10 credits]** Verify using finite differences that the gradients you implemented for the above functions is actually correct. To do this, we do a few runs with randomly sampled weights and inputs. In each run, compare the analytically computed gradient (the output of ``gradNeuron`` implemented above) with the result from finite differences (computed with ``neuron`` implemented above, and applying finite differences to the weights)."
   ]
  },
  {
   "cell_type": "code",
   "execution_count": 19,
   "metadata": {},
   "outputs": [
    {
     "name": "stdout",
     "output_type": "stream",
     "text": [
      "FD:        [0.05768946798045959, -0.046983281676293835, -0.02671729379399856, 0.04123669192779289, -0.021657034410260675]\n",
      "Analytical [ 0.05768947 -0.04698328 -0.02671729  0.04123669 -0.02165703]\n",
      " -- DIFF   [ 2.72843553e-12  9.52607437e-12  3.89673016e-12 -4.57249516e-12\n",
      "  7.23279076e-13]\n",
      "FD:        [-0.07238204419203476, -0.09614401377706915, -0.07417619883667848, 0.022760854147957362, -0.07743927178151255]\n",
      "Analytical [-0.07238204 -0.09614401 -0.0741762   0.02276085 -0.07743927]\n",
      " -- DIFF   [-2.40078790e-12 -5.98542049e-12 -3.58874042e-12 -8.73492251e-13\n",
      " -2.04253281e-12]\n",
      "FD:        [0.009833008512982744, -0.18569693989722855, -0.020734107114561695, 0.05153991597395268, -0.15094694255646246]\n",
      "Analytical [ 0.00983301 -0.18569694 -0.02073411  0.05153992 -0.15094694]\n",
      " -- DIFF   [-3.76183633e-12 -8.74889050e-12  1.06317385e-12  1.80089277e-12\n",
      " -3.28087557e-12]\n",
      "FD:        [0.04175824533381167, -0.17613609443190012, -0.049504359828089754, -0.508508686203335, -0.12776523629631775]\n",
      "Analytical [ 0.04175825 -0.17613609 -0.04950436 -0.50850869 -0.12776524]\n",
      " -- DIFF   [ 2.67055128e-12  3.96377375e-13  1.49954354e-12  1.56162860e-11\n",
      " -6.17911278e-12]\n",
      "FD:        [0.08444910358229585, 0.19792379836736093, -0.15000483600813297, 0.07228309915618958, 0.07589875143931835]\n",
      "Analytical [ 0.0844491   0.1979238  -0.15000484  0.0722831   0.07589875]\n",
      " -- DIFF   [-2.62147248e-12  2.69970157e-12  1.21588850e-12  1.78546067e-12\n",
      " -2.22018237e-12]\n",
      "FD:        [0.20511515448073944, 0.10472194667543454, -0.07077362892127237, 0.08778876044168714, -0.5022558834832935]\n",
      "Analytical [ 0.20511515  0.10472195 -0.07077363  0.08778876 -0.50225588]\n",
      " -- DIFF   [ 9.47852907e-13  1.29064814e-12  7.24295623e-13 -3.30115102e-12\n",
      "  1.54206647e-11]\n",
      "FD:        [-0.026119714535699497, -0.0113603808804541, 0.03741770399079414, 0.007249764094607868, -0.02145871146330691]\n",
      "Analytical [-0.02611971 -0.01136038  0.0374177   0.00724976 -0.02145871]\n",
      " -- DIFF   [ 3.37938011e-12  7.11930515e-12  4.00603162e-13 -3.92539386e-12\n",
      " -5.84683343e-12]\n",
      "FD:        [0.010871145861290897, 2.2656981846225218e-05, 0.0015142173015458835, 0.009429880154510073, -0.009681168378072869]\n",
      "Analytical [ 1.08711459e-02  2.26569885e-05  1.51421730e-03  9.42988015e-03\n",
      " -9.68116838e-03]\n",
      " -- DIFF   [-1.49498990e-12 -6.65496511e-12  2.02435724e-14  1.54990777e-12\n",
      "  6.33420746e-12]\n",
      "FD:        [-0.12721638641410848, -0.2609471864811752, -0.06128564237622979, -0.023060868158120137, -0.13407186546937622]\n",
      "Analytical [-0.12721639 -0.26094719 -0.06128564 -0.02306087 -0.13407187]\n",
      " -- DIFF   [ 1.61953784e-12 -4.28435065e-13 -2.23175645e-13 -5.76268200e-13\n",
      " -1.33335010e-12]\n",
      "FD:        [-0.06518725331194908, -0.03194909782844313, 0.046255610297585285, 0.037318708667744005, -0.03155702799073623]\n",
      "Analytical [-0.06518725 -0.0319491   0.04625561  0.03731871 -0.03155703]\n",
      " -- DIFF   [-5.90463789e-12 -2.13713769e-12  3.40637241e-12  7.03384573e-12\n",
      "  1.05899317e-12]\n"
     ]
    }
   ],
   "source": [
    "#ANSQ4\n",
    "\n",
    "delta = 1e-5\n",
    "for i in range(10):\n",
    "    w = np.random.randn(5)\n",
    "    x = np.random.randn(5)\n",
    "    \n",
    "    # (f(x+h)-f(x-h))/(2h)\n",
    "\n",
    "    # Your code comes here...\n",
    "    gw = [(neuron(w+delta*np.array([0 if i!=j else 1 for j in range(len(w))]), x)-neuron(w-delta*np.array([0 if i!=j else 1 for j in range(len(w))]),x))/(2*delta) for i in range(len(w))]\n",
    "    print (\"FD:       \", gw)\n",
    "    print (\"Analytical\", gradNeuron(w,x))\n",
    "    print (\" -- DIFF  \", gw-gradNeuron(w,x))\n",
    "    \n",
    "#/ANSQ4"
   ]
  },
  {
   "cell_type": "markdown",
   "metadata": {},
   "source": [
    "### Training a single neuron\n",
    "\n",
    "We now have the code to implement gradient descent on a single neuron. We simply need to apply the chain rule of derivation to get the complete gradient.\n",
    "\n",
    "**Question 5 [10 marks]** \n",
    "Implement the error function and the gradient of the error function with respect to the weights. Then use the ```gradDesc``` function (provided in the top code box) to perform gradient descent and optimise the weights based on the provided data. Plot the evolution of the error in one plot, and the function that the neuron implements overlayed with the training data (in another plot)\n"
   ]
  },
  {
   "cell_type": "code",
   "execution_count": 23,
   "metadata": {},
   "outputs": [
    {
     "name": "stdout",
     "output_type": "stream",
     "text": [
      "[[0.      ]\n",
      " [0.111111]\n",
      " [0.222222]\n",
      " [0.333333]\n",
      " [0.444444]\n",
      " [0.555556]\n",
      " [0.666667]\n",
      " [0.777778]\n",
      " [0.888889]\n",
      " [1.      ]] [ 0.349486  0.830839  1.007332  0.971507  0.133066  0.166823 -0.848307\n",
      " -0.445686 -0.563567  0.261502]\n"
     ]
    }
   ],
   "source": [
    "data = np.load(\"curve.npz\")\n",
    "train = np.array([data['train'][:,0]]).T\n",
    "traint = data['train'][:,1]\n",
    "target = traint\n",
    "print(train, target)"
   ]
  },
  {
   "cell_type": "code",
   "execution_count": 75,
   "metadata": {},
   "outputs": [
    {
     "name": "stdout",
     "output_type": "stream",
     "text": [
      "[[1.       0.      ]\n",
      " [1.       0.111111]\n",
      " [1.       0.222222]\n",
      " [1.       0.333333]\n",
      " [1.       0.444444]\n",
      " [1.       0.555556]\n",
      " [1.       0.666667]\n",
      " [1.       0.777778]\n",
      " [1.       0.888889]\n",
      " [1.       1.      ]]\n",
      "[0. 0.]\n"
     ]
    },
    {
     "data": {
      "text/plain": [
       "[<matplotlib.lines.Line2D at 0x7f01d3b43828>]"
      ]
     },
     "execution_count": 75,
     "metadata": {},
     "output_type": "execute_result"
    },
    {
     "data": {
      "image/png": "[encoded data removed]",
      "text/plain": [
       "<Figure size 432x288 with 1 Axes>"
      ]
     },
     "metadata": {},
     "output_type": "display_data"
    },
    {
     "data": {
      "image/png": "[encoded data removed]",
      "text/plain": [
       "<Figure size 432x288 with 1 Axes>"
      ]
     },
     "metadata": {},
     "output_type": "display_data"
    }
   ],
   "source": [
    "#ANSQ5\n",
    "\n",
    "def error_f(weight_l, input_ll, target_l):\n",
    "    error = 0\n",
    "    for input_l, target in zip(input_ll, target_l):\n",
    "        error+=(neuron(weight_l, input_l))-target)**2\n",
    "    return 0.5*error\n",
    "\n",
    "\n",
    "def grad_error_f(weight_l, input_ll, target_l):\n",
    "    grad = np.array([])\n",
    "    for input_l, target in zip(input_ll, target_l):\n",
    "        grad += (neuron(weight_l, input_l)-target)* gradNeuron(weight_l, input_l)\n",
    "    return grad\n",
    "    pass\n",
    "\n",
    "\n",
    "# Start by augmenting the data with a 1 so that w[0] is the bias\n",
    "X = np.ones((train.shape[0],2))\n",
    "X[:,1] = train[:,0]\n",
    "\n",
    "\n",
    "#/ANSQ5\n"
   ]
  },
  {
   "cell_type": "markdown",
   "metadata": {
    "collapsed": true
   },
   "source": [
    "## Defining and training a network\n",
    "\n",
    "First, let us have a look at the implementation of the error and activation functions. As you have noticed above, there is a lot of duplicated code between the functions and their gradient and, therefore, a lot of wasted computation. We can reduce this problem by implementing functions that return both the computed function value and the value of the gradient for a given input. Here are a few examples of such implementations"
   ]
  },
  {
   "cell_type": "code",
   "execution_count": null,
   "metadata": {},
   "outputs": [],
   "source": [
    "# This code is given\n",
    "# The following functions are activation functions. For efficiency, they combine the computation of \n",
    "# the activation function itself and its gradient wrt its input values, as both often rely on computing \n",
    "# the same intermediate quantities\n",
    "\n",
    "def ssegf(y,t):\n",
    "    '''Error and gradient function for sum-of-squares'''\n",
    "    d = (y-t)\n",
    "    return .5*d**2, d\n",
    "\n",
    "def linvgf(a):\n",
    "    '''Value and gradient function for linear activation'''\n",
    "    return a,np.ones(a.shape)\n",
    "\n",
    "def logitvgf(a):\n",
    "    '''Error and gradient function for logit (sigmoidal)'''\n",
    "    s = sigma(a)\n",
    "    return s, s*(1-s)\n",
    "\n",
    "def tanh(a):\n",
    "    if a<-40:\n",
    "        return -1.\n",
    "    if a>40:\n",
    "        return 1.\n",
    "    ez = np.exp(a)\n",
    "    emz = np.exp(-a)\n",
    "    th = (ez-emz)/(ez+emz)\n",
    "    return th    \n",
    "tanh = np.vectorize(tanh)\n",
    "\n",
    "def tanhvgf(a):\n",
    "    '''Error and gradient function for hyperbolic tangent'''\n",
    "    t = tanh(a)\n",
    "    return t,1.-t*t\n",
    "\n",
    "alpha = 1e-5\n",
    "def symrelu_vgf(a):\n",
    "    if a < -5:\n",
    "        return alpha,-1+alpha*(a+5)\n",
    "    if a > 5:\n",
    "        return alpha,1+alpha*(a-5)\n",
    "    return .2,.2*a\n",
    "symreluvgf = np.vectorize(symrelu_vgf)\n",
    "\n",
    "def reluvgf(a):\n",
    "    if a<0.:\n",
    "        return 0.,0.\n",
    "    return 1.,a\n",
    "reluvgf=np.vectorize(reluvgf)\n",
    "\n",
    "x = np.linspace(-10,10,5000)\n",
    "g,v = symreluvgf(x)\n",
    "plt.plot(x,v,x,g)\n"
   ]
  },
  {
   "cell_type": "markdown",
   "metadata": {},
   "source": [
    "\n",
    "We define a feed-forward neural network using the following information:\n",
    "1. The number of layers in the network\n",
    "1. The number of nodes in each layer\n",
    "1. The activation function used in each layer (notice that all nodes in a layer use the same activation function)\n",
    "\n",
    "The important thing to notice in such a network, is that the input of the nodes in layer $n$ are the outputs of the nodes in layer $n-1$, so that we have a chaining of functions and the chain rule of derivatives applies directly. We can, therefore, apply the chain rule mechanically and compute the gradient using a combination of the forward-propagated inputs and backward-propagated errors.\n",
    "\n",
    "The code below implements a neural network with arbitrary numbers of hidden nodes, arbitrary numbers of hidden layers, and arbitrary activation functions. Do look at the code and make sure you understand how it works, and how to use it. "
   ]
  },
  {
   "cell_type": "code",
   "execution_count": 76,
   "metadata": {},
   "outputs": [],
   "source": [
    "class NN:\n",
    "    '''Implementation of an artificial neural network'''\n",
    "    def __init__(self, nIn, nodesPerLayer, actFn):\n",
    "        '''Initialise the network with random weights and biases. \n",
    "        Parameters are:\n",
    "        nIn: Number of input nodes (dimensionality of the data)\n",
    "        nodePerLayer: Tuple of numbers of hidden nodes, one integer per layer, including the output layer\n",
    "        actFn: Tuple of activation functions; one function per computational layer (hidden or output)'''\n",
    "        \n",
    "        assert(len(nodesPerLayer) == len(actFn))  # Check that the parameters are consistent\n",
    "        \n",
    "        self.numNodes = [nIn]                     # Create a list of numbers of nodes per layer\n",
    "        if nodesPerLayer:\n",
    "            self.numNodes.extend(nodesPerLayer)\n",
    "        self.reinit()\n",
    "        self.actfn = actFn\n",
    "        \n",
    "    def reinit(self,eta=1.0):\n",
    "        '''Re-initialise weights with random values'''\n",
    "        # Initialise weights and biases\n",
    "        self.w = [ eta * np.random.randn(self.numNodes[i],self.numNodes[i-1]) for i in range(1,len(self.numNodes)) ]\n",
    "        # print \"Weights\", self.w\n",
    "        self.biases = [ eta * np.random.randn(self.numNodes[i]) for i in range(1,len(self.numNodes))]\n",
    "        # print \"Biases:\", self.biases\n",
    "        \n",
    "    def forward(self,x):\n",
    "        ''' Compute the activations of the nodes of each layer.\n",
    "            For efficiency, use \"VGF\" functions and store the gradient of the activation function as well. In\n",
    "            other words each entry of self.fw is a tuple containing (z_i, h'(a_i))\n",
    "        '''\n",
    "        self.fw = [ self.actfn[0](self.w[0].dot(x) + self.biases[0]) ]  # First layer takes data as input\n",
    "        for h,w,b in zip(self.actfn[1:],self.w[1:],self.biases[1:]):    # following layers take the output of  \n",
    "            self.fw.append(h(w.dot(self.fw[-1][0]) + b))                #    the previous layer\n",
    "        return self.fw[-1][0]\n",
    "    \n",
    "    def back(self, errorgrad):\n",
    "        '''Implement backpropagation of the errors'''\n",
    "        self.delta = [ self.fw[-1][1] * errorgrad ]             # Start with the gradient of the error function\n",
    "        \n",
    "        for layer in range(len(self.w)-1,0,-1):\n",
    "            hprime = self.fw[layer-1][1]                        # h'(a_j)\n",
    "            delta = self.delta[0]                               # list gets extended at start, first elt: delta_k\n",
    "            w = self.w[layer]                                   # w_kj\n",
    "\n",
    "            self.delta.insert(0,hprime * (self.delta[0].dot(w))) # Use dot product to sum over all FOLLOWING weights        \n",
    "\n",
    "    def gradients(self, x, t, eta=1e-3):\n",
    "        '''Compute the gradients of the error of a single datapoint, with respect to\n",
    "        all weights and all biases'''\n",
    "        y = self.forward(x)                        # Forward propagation and computation of h'\n",
    "        error = y-t\n",
    "        self.back(error)                           # Backward propagation\n",
    "                              \n",
    "        gradw = []\n",
    "        gradb = []\n",
    "        gradw.append(np.outer(self.delta[0],x))    # derivative wrt w_ji = delta_j z_i, where z_i == x_i for input nodes\n",
    "        gradb.append(self.delta[0])                #    and z_i == 1 for bias nodes\n",
    "        \n",
    "        for i in range(1,len(self.w)):\n",
    "            gradw.append(np.outer(self.delta[i],self.fw[i-1][0])) # for folloing layers, use output of previous layer\n",
    "            gradb.append(self.delta[i])\n",
    "        return gradw,gradb,.5*error*error          # Return gradient wrt w and bias, and the error\n",
    "\n",
    "    def batchGradients(self, data,targets):\n",
    "        '''Compute the gradients of all weights and biases, for the complete dataset'''                      \n",
    "        gradw,gradb,error = self.gradients(data[0,:],targets[0])\n",
    "        for x,t in zip(data[1:,:],targets[1:]):\n",
    "            tw,tb,e = self.gradients(x,t)\n",
    "            error += e\n",
    "            for i in range(len(gradw)):\n",
    "                gradw[i] += tw[i]\n",
    "                gradb[i] += tb[i]\n",
    "        return gradw,gradb,error\n",
    "    \n",
    "    def batchStep(self,data,targets,eta=1e-3):\n",
    "        '''Make one step of batch gradient descent'''\n",
    "        gw,gb,e = self.batchGradients(data,targets)\n",
    "        for i in range(len(gw)):\n",
    "            self.w[i] -= eta*gw[i]\n",
    "            self.biases[i] -= eta*gb[i]\n",
    "        return e\n",
    "       \n",
    "    def train(self,data,targets,eta=1e-4, minit=100, maxit=10000):\n",
    "        '''Train the network using batch GD'''\n",
    "        es = np.zeros(maxit)\n",
    "        for i in range(maxit):\n",
    "            es[i] = self.batchStep(data,targets,eta)\n",
    "            if i>minit and es[i-1]< es[i]+1e-5:\n",
    "                return es[:i+1]\n",
    "        return es"
   ]
  },
  {
   "cell_type": "markdown",
   "metadata": {},
   "source": [
    "Using the above code, let's create a neural network with one layer with hyperbolic tangent activation function, and one output node with linear output activation function, and train it on the provided data. We plot the evolution of the training error, as well as the function that the neural network implements (in two separate plots). "
   ]
  },
  {
   "cell_type": "code",
   "execution_count": 83,
   "metadata": {},
   "outputs": [
    {
     "data": {
      "text/plain": [
       "[<matplotlib.lines.Line2D at 0x7f01d396e0b8>]"
      ]
     },
     "execution_count": 83,
     "metadata": {},
     "output_type": "execute_result"
    },
    {
     "data": {
      "image/png": "[encoded data removed]",
      "text/plain": [
       "<Figure size 432x288 with 1 Axes>"
      ]
     },
     "metadata": {},
     "output_type": "display_data"
    },
    {
     "data": {
      "image/png": "[encoded data removed]",
      "text/plain": [
       "<Figure size 432x288 with 1 Axes>"
      ]
     },
     "metadata": {},
     "output_type": "display_data"
    }
   ],
   "source": [
    "\n",
    "net = NN(1,(5,1),(tanhvgf,linvgf,))\n",
    "net.reinit(eta=1.)\n",
    "errors = net.train(train,traint,1e-2,minit=100,maxit=10000)\n",
    "plt.plot(errors)\n",
    "plt.figure()\n",
    "plt.scatter(train,traint)\n",
    "x = np.arange(0,1,.01)\n",
    "y = np.array([float(net.forward([d])) for d in x])\n",
    "plt.plot(x,y)\n",
    "# print (net.w)\n",
    "# print (net.biases)"
   ]
  },
  {
   "cell_type": "markdown",
   "metadata": {},
   "source": [
    "**Question 6 [30 credits]** Use the provided test data to compare this to other configurations of your choice (more hidden layers, different activation functions, ...). Find a network that performs well on the given data. Perform multiple training runs with random initialisations, plot the final validation error for each run in function of the number of nodes, and keep the best. Plot the train and test data, as well as the function implemented by your final network"
   ]
  },
  {
   "cell_type": "code",
   "execution_count": 10,
   "metadata": {},
   "outputs": [],
   "source": [
    "test = np.array([data['test'][:,0]]).T\n",
    "testt = data['test'][:,1]"
   ]
  },
  {
   "cell_type": "code",
   "execution_count": 63,
   "metadata": {},
   "outputs": [
    {
     "name": "stdout",
     "output_type": "stream",
     "text": [
      "Train:  1.0688811252836732 Val:  [1.53480234] Net: [1, 1]\n",
      "Train:  1.06887876084596 Val:  [1.53478863] Net: [1, 1]\n",
      "Train:  1.0688849552985598 Val:  [1.53482451] Net: [1, 1]\n",
      "Train:  0.6383507083749744 Val:  [0.93842595] Net: [1, 1, 1]\n",
      "Train:  0.6383503638175565 Val:  [0.93842545] Net: [1, 1, 1]\n",
      "Train:  0.6383500567753834 Val:  [0.938425] Net: [1, 1, 1]\n",
      "Train:  0.3373517763352048 Val:  [0.60206712] Net: [1, 3, 1]\n",
      "Train:  0.22627408198944898 Val:  [0.4478394] Net: [1, 3, 1]\n",
      "Train:  0.21280016179335604 Val:  [0.4121321] Net: [1, 3, 1]\n",
      "Train:  0.24424973167662498 Val:  [0.48283608] Net: [1, 4, 1]\n",
      "Train:  0.23249234524774032 Val:  [0.44868429] Net: [1, 4, 1]\n",
      "Train:  0.2315741905635652 Val:  [0.43964477] Net: [1, 4, 1]\n",
      "Train:  0.22442472479055678 Val:  [0.40445917] Net: [1, 5, 1]\n",
      "Train:  0.19877584493592793 Val:  [0.3886986] Net: [1, 5, 1]\n",
      "Train:  0.215377050454244 Val:  [0.40106541] Net: [1, 5, 1]\n",
      "Train:  0.22543976544801173 Val:  [0.44871129] Net: [1, 6, 1]\n",
      "Train:  0.1908518981047056 Val:  [0.42437924] Net: [1, 6, 1]\n",
      "Train:  0.22540820545143203 Val:  [0.4469176] Net: [1, 6, 1]\n",
      "Train:  0.20264932907673944 Val:  [0.40500254] Net: [1, 7, 1]\n",
      "Train:  0.2221350150472141 Val:  [0.45003867] Net: [1, 7, 1]\n",
      "Train:  0.1988536606088876 Val:  [0.38385762] Net: [1, 7, 1]\n",
      "Train:  0.21756924271463401 Val:  [0.43410632] Net: [1, 8, 1]\n",
      "Train:  0.2149953174433632 Val:  [0.42246941] Net: [1, 8, 1]\n",
      "Train:  0.21797079363616279 Val:  [0.42762619] Net: [1, 8, 1]\n",
      "Train:  0.20479450230234209 Val:  [0.41977561] Net: [1, 10, 1]\n",
      "Train:  0.20880643864682344 Val:  [0.39117355] Net: [1, 10, 1]\n",
      "Train:  0.212998896785716 Val:  [0.4110146] Net: [1, 10, 1]\n",
      "Train:  5.085358176174038e+120 Val:  [8.54848709e+121] Net: [1, 50, 1]\n",
      "Train:  1.739744922814768e+119 Val:  [2.92451122e+120] Net: [1, 50, 1]\n",
      "Train:  9.08422287421227e+118 Val:  [1.52705787e+120] Net: [1, 50, 1]\n",
      "Train:  0.6033511145341125 Val:  [0.86969111] Net: [1, 5, 1, 1]\n",
      "Train:  0.4455201010326192 Val:  [0.60831815] Net: [1, 5, 1, 1]\n",
      "Train:  0.284292210240735 Val:  [0.54431232] Net: [1, 5, 1, 1]\n",
      "Train:  0.3331377716144855 Val:  [0.68160996] Net: [1, 5, 3, 1]\n",
      "Train:  0.3343371686697282 Val:  [0.6769984] Net: [1, 5, 3, 1]\n",
      "Train:  0.17948142669932507 Val:  [0.38409537] Net: [1, 5, 3, 1]\n",
      "Train:  0.3480936003936219 Val:  [0.67700444] Net: [1, 5, 4, 1]\n",
      "Train:  0.438995915649852 Val:  [0.60125685] Net: [1, 5, 4, 1]\n",
      "Train:  0.18163759370913593 Val:  [0.38934236] Net: [1, 5, 4, 1]\n",
      "Train:  0.1784443082035297 Val:  [0.38487417] Net: [1, 5, 5, 1]\n",
      "Train:  0.17792767044194213 Val:  [0.38533335] Net: [1, 5, 5, 1]\n",
      "Train:  0.184736286179731 Val:  [0.39179812] Net: [1, 5, 5, 1]\n",
      "Train:  0.4109429946069088 Val:  [0.79750944] Net: [1, 5, 6, 1]\n",
      "Train:  0.4781264005787994 Val:  [0.66658136] Net: [1, 5, 6, 1]\n",
      "Train:  0.18425887498579818 Val:  [0.39133776] Net: [1, 5, 6, 1]\n",
      "Train:  0.17912967765414245 Val:  [0.37382863] Net: [1, 5, 7, 1]\n",
      "Train:  0.17965520107336935 Val:  [0.37161408] Net: [1, 5, 7, 1]\n",
      "Train:  0.17969903895103304 Val:  [0.3744755] Net: [1, 5, 7, 1]\n",
      "Train:  0.333558932321868 Val:  [0.70092105] Net: [1, 10, 10, 5, 1]\n",
      "Train:  0.5900709314571498 Val:  [0.45301531] Net: [1, 10, 10, 5, 1]\n",
      "Train:  0.439900162357914 Val:  [0.59003723] Net: [1, 10, 10, 5, 1]\n"
     ]
    },
    {
     "data": {
      "text/plain": [
       "(0, 1.55)"
      ]
     },
     "execution_count": 63,
     "metadata": {},
     "output_type": "execute_result"
    },
    {
     "data": {
      "image/png": "[encoded data removed]",
      "text/plain": [
       "<Figure size 432x288 with 1 Axes>"
      ]
     },
     "metadata": {},
     "output_type": "display_data"
    }
   ],
   "source": [
    "#ANSQ6\n",
    "\n",
    "def evaluateNet(net):\n",
    "    err = 0.\n",
    "    for x,t in zip(test,testt):\n",
    "        err += sse(net.forward(x),t)\n",
    "    return err\n",
    "\n",
    "\n",
    "#/ANSQ6"
   ]
  },
  {
   "cell_type": "code",
   "execution_count": null,
   "metadata": {},
   "outputs": [],
   "source": []
  }
 ],
 "metadata": {
  "kernelspec": {
   "display_name": "Python 3",
   "language": "python",
   "name": "python3"
  },
  "language_info": {
   "codemirror_mode": {
    "name": "ipython",
    "version": 3
   },
   "file_extension": ".py",
   "mimetype": "text/x-python",
   "name": "python",
   "nbconvert_exporter": "python",
   "pygments_lexer": "ipython3",
   "version": "3.5.6"
  }
 },
 "nbformat": 4,
 "nbformat_minor": 1
}
